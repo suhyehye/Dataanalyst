{
 "cells": [
  {
   "cell_type": "code",
   "execution_count": 1,
   "id": "1cb099a9",
   "metadata": {},
   "outputs": [],
   "source": [
    "#분류\n",
    "import warnings\n",
    "warnings.filterwarnings(\"ignore\")\n",
    "import pandas as pd\n",
    "data = pd.read_csv(\"breast-cancer-wisconsin.csv\",encoding='utf-8')\n",
    "X = data[data.columns[1:10]]\n",
    "y = data[[\"Class\"]]\n",
    "\n",
    "from sklearn.model_selection import train_test_split\n",
    "X_train,X_test,y_train,y_test = train_test_split(X,y,stratify=y,random_state=42)\n",
    "\n",
    "#min-max\n",
    "\n",
    "from sklearn.preprocessing import MinMaxScaler\n",
    "scaler = MinMaxScaler()\n",
    "scaler.fit(X_train)\n",
    "\n",
    "X_scaled_train = scaler.transform(X_train)\n",
    "X_scaled_test = scaler.transform(X_test)"
   ]
  },
  {
   "cell_type": "code",
   "execution_count": 2,
   "id": "c7a93a8d",
   "metadata": {},
   "outputs": [
    {
     "data": {
      "text/plain": [
       "VotingClassifier(estimators=[('lr', LogisticRegression(random_state=42)),\n",
       "                             ('rf', RandomForestClassifier(random_state=42)),\n",
       "                             ('svc', SVC(random_state=42))])"
      ]
     },
     "execution_count": 2,
     "metadata": {},
     "output_type": "execute_result"
    }
   ],
   "source": [
    "from sklearn.ensemble import RandomForestClassifier\n",
    "from sklearn.linear_model import LogisticRegression\n",
    "from sklearn.svm import SVC\n",
    "from sklearn.ensemble import VotingClassifier\n",
    "\n",
    "\n",
    "logit_model = LogisticRegression(random_state=42)\n",
    "rnf_model = RandomForestClassifier(random_state=42)\n",
    "svm_model = SVC(random_state = 42)\n",
    "\n",
    "voting_hard = VotingClassifier(estimators=[('lr',logit_model),('rf',rnf_model),('svc',svm_model)],voting='hard')\n",
    "voting_hard.fit(X_scaled_train,y_train)"
   ]
  },
  {
   "cell_type": "code",
   "execution_count": 4,
   "id": "a48e9683",
   "metadata": {},
   "outputs": [
    {
     "name": "stdout",
     "output_type": "stream",
     "text": [
      "LogisticRegression 0.9590643274853801\n",
      "RandomForestClassifier 0.9649122807017544\n",
      "SVC 0.9649122807017544\n",
      "VotingClassifier 0.9649122807017544\n"
     ]
    }
   ],
   "source": [
    "from sklearn.metrics import accuracy_score\n",
    "\n",
    "for clf in (logit_model,rnf_model,svm_model,voting_hard):\n",
    "    clf.fit(X_scaled_train,y_train)\n",
    "    y_pred = clf.predict(X_scaled_test)\n",
    "    print(clf.__class__.__name__,accuracy_score(y_test,y_pred))"
   ]
  },
  {
   "cell_type": "code",
   "execution_count": 5,
   "id": "e1ba90de",
   "metadata": {},
   "outputs": [
    {
     "name": "stdout",
     "output_type": "stream",
     "text": [
      "로지스틱 분류기 훈련데이터 오차행렬 :\n",
      " [[328   5]\n",
      " [  9 170]]\n",
      "로지스틱 분류기 테스트데이터 오차행렬 :\n",
      " [[106   5]\n",
      " [  2  58]]\n"
     ]
    }
   ],
   "source": [
    "from sklearn.metrics import confusion_matrix\n",
    "log_pred_train = logit_model.predict(X_scaled_train)\n",
    "log_confusion_train = confusion_matrix(y_train,log_pred_train)\n",
    "print(\"로지스틱 분류기 훈련데이터 오차행렬 :\\n\",log_confusion_train)\n",
    "\n",
    "log_pred_test = logit_model.predict(X_scaled_test)\n",
    "log_confusion_test = confusion_matrix(y_test,log_pred_test)\n",
    "print(\"로지스틱 분류기 테스트데이터 오차행렬 :\\n\",log_confusion_test)"
   ]
  },
  {
   "cell_type": "code",
   "execution_count": 7,
   "id": "f4382d4e",
   "metadata": {},
   "outputs": [
    {
     "name": "stdout",
     "output_type": "stream",
     "text": [
      "서포트 벡터머신 분류기 훈련 데이터 오차행렬 :\n",
      " [[329   4]\n",
      " [  4 175]]\n",
      "서포트 벡터머신 분류기 테스트 데이터 오차행렬 :\n",
      " [[106   5]\n",
      " [  1  59]]\n"
     ]
    }
   ],
   "source": [
    "svm_pred_train = svm_model.predict(X_scaled_train)\n",
    "svm_confusion_train = confusion_matrix(y_train,svm_pred_train)\n",
    "print(\"서포트 벡터머신 분류기 훈련 데이터 오차행렬 :\\n\",svm_confusion_train)\n",
    "\n",
    "svm_pred_test = svm_model.predict(X_scaled_test)\n",
    "svm_confusion_test = confusion_matrix(y_test,svm_pred_test)\n",
    "print(\"서포트 벡터머신 분류기 테스트 데이터 오차행렬 :\\n\",svm_confusion_test)"
   ]
  },
  {
   "cell_type": "code",
   "execution_count": 10,
   "id": "13073c0e",
   "metadata": {},
   "outputs": [
    {
     "name": "stdout",
     "output_type": "stream",
     "text": [
      "랜덤포레스트 분류기 훈련 데이터 오차행렬 :\n",
      " [[333   0]\n",
      " [  0 179]]\n",
      "랜덤포레스트 분류기 테스트 데이터 오차행렬 :\n",
      " [[106   5]\n",
      " [  1  59]]\n"
     ]
    }
   ],
   "source": [
    "rnf_pred_train = rnf_model.predict(X_scaled_train)\n",
    "rnf_confusion_train = confusion_matrix(y_train,rnf_pred_train)\n",
    "print(\"랜덤포레스트 분류기 훈련 데이터 오차행렬 :\\n\",rnf_confusion_train)\n",
    "\n",
    "rnf_pred_test = rnf_model.predict(X_scaled_test)\n",
    "rnf_confusion_test = confusion_matrix(y_test,rnf_pred_test)\n",
    "print(\"랜덤포레스트 분류기 테스트 데이터 오차행렬 :\\n\",rnf_confusion_test)"
   ]
  },
  {
   "cell_type": "code",
   "execution_count": 14,
   "id": "b8414602",
   "metadata": {},
   "outputs": [
    {
     "name": "stdout",
     "output_type": "stream",
     "text": [
      "투표 분류기 분류기 훈련데이터 오차행렬 :\n",
      " [[329   4]\n",
      " [  4 175]]\n",
      "투표 분류기 분류기 테스트데이터 오차행렬 :\n",
      " [[106   5]\n",
      " [  1  59]]\n"
     ]
    }
   ],
   "source": [
    "voting_pred_train = voting_hard.predict(X_scaled_train)\n",
    "voting_confusion_train = confusion_matrix(y_train,voting_pred_train)\n",
    "print(\"투표 분류기 분류기 훈련데이터 오차행렬 :\\n\",voting_confusion_train)\n",
    "\n",
    "voting_pred_test = voting_hard.predict(X_scaled_test)\n",
    "voting_confusion_test = confusion_matrix(y_test,voting_pred_test)\n",
    "print(\"투표 분류기 분류기 테스트데이터 오차행렬 :\\n\",voting_confusion_test)"
   ]
  },
  {
   "cell_type": "code",
   "execution_count": 26,
   "id": "976dc42d",
   "metadata": {},
   "outputs": [
    {
     "data": {
      "text/plain": [
       "VotingClassifier(estimators=[('lr', LogisticRegression(random_state=42)),\n",
       "                             ('rf', RandomForestClassifier(random_state=42)),\n",
       "                             ('svm', SVC(probability=True, random_state=42))],\n",
       "                 voting='soft')"
      ]
     },
     "execution_count": 26,
     "metadata": {},
     "output_type": "execute_result"
    }
   ],
   "source": [
    "#약한 학습기 soft learner\n",
    "\n",
    "logit_model = LogisticRegression(random_state = 42)\n",
    "rnf_model = RandomForestClassifier(random_state = 42)\n",
    "svm_model = SVC(random_state = 42, probability=True )\n",
    "voting_soft = VotingClassifier(estimators=[('lr',logit_model),('rf',rnf_model),('svm',svm_model)],voting='soft')\n",
    "voting_soft.fit(X_scaled_train,y_train)"
   ]
  },
  {
   "cell_type": "code",
   "execution_count": 27,
   "id": "d4ffe1e8",
   "metadata": {},
   "outputs": [
    {
     "name": "stdout",
     "output_type": "stream",
     "text": [
      "LogisticRegression 0.9590643274853801\n",
      "RandomForestClassifier 0.9649122807017544\n",
      "SVC 0.9649122807017544\n",
      "VotingClassifier 0.9649122807017544\n"
     ]
    }
   ],
   "source": [
    "from sklearn.metrics import accuracy_score\n",
    "for clf in (logit_model,rnf_model,svm_model,voting_soft):\n",
    "    clf.fit(X_scaled_train,y_train)\n",
    "    y_pred = clf.predict(X_scaled_test)\n",
    "    print(clf.__class__.__name__,accuracy_score(y_test,y_pred))"
   ]
  },
  {
   "cell_type": "code",
   "execution_count": 28,
   "id": "3545fc65",
   "metadata": {},
   "outputs": [],
   "source": [
    "#회귀\n",
    "import pandas as pd\n",
    "data2 = pd.read_csv(\"house_price.csv\",encoding='utf-8')\n",
    "X = data2[data2.columns[1:5]]\n",
    "y = data2[[\"house_value\"]]\n",
    "\n",
    "from sklearn.model_selection import train_test_split\n",
    "X_train, X_test, y_train, y_test = train_test_split(X,y,random_state=42)\n",
    "\n",
    "from sklearn.preprocessing import MinMaxScaler\n",
    "scaler = MinMaxScaler()\n",
    "scaler.fit(X_train)\n",
    "X_scaled_train = scaler.transform(X_train)\n",
    "X_scaled_test = scaler.transform(X_test)"
   ]
  },
  {
   "cell_type": "code",
   "execution_count": 32,
   "id": "c0c4f2cf",
   "metadata": {},
   "outputs": [
    {
     "data": {
      "text/plain": [
       "VotingRegressor(estimators=[('lr', LinearRegression()),\n",
       "                            ('rf', RandomForestRegressor(random_state=42))])"
      ]
     },
     "execution_count": 32,
     "metadata": {},
     "output_type": "execute_result"
    }
   ],
   "source": [
    "from sklearn.linear_model import LinearRegression\n",
    "from sklearn.ensemble import RandomForestRegressor\n",
    "from sklearn.ensemble import VotingRegressor\n",
    "\n",
    "linear_model = LinearRegression()\n",
    "rnf_model = RandomForestRegressor(random_state=42)\n",
    "voting_regressor = VotingRegressor(estimators=[('lr',linear_model),('rf',rnf_model)])\n",
    "voting_regressor.fit(X_scaled_train, y_train)"
   ]
  },
  {
   "cell_type": "code",
   "execution_count": 33,
   "id": "092c1044",
   "metadata": {},
   "outputs": [
    {
     "data": {
      "text/plain": [
       "0.7962532705428835"
      ]
     },
     "execution_count": 33,
     "metadata": {},
     "output_type": "execute_result"
    }
   ],
   "source": [
    "pred_train = voting_regressor.predict(X_scaled_train)\n",
    "voting_regressor.score(X_scaled_train, y_train)"
   ]
  },
  {
   "cell_type": "code",
   "execution_count": 35,
   "id": "06f69980",
   "metadata": {},
   "outputs": [
    {
     "data": {
      "text/plain": [
       "0.5936371957936409"
      ]
     },
     "execution_count": 35,
     "metadata": {},
     "output_type": "execute_result"
    }
   ],
   "source": [
    "pred_test = voting_regressor.predict(X_scaled_test)\n",
    "voting_regressor.score(X_scaled_test,y_test)"
   ]
  },
  {
   "cell_type": "code",
   "execution_count": 36,
   "id": "d1483913",
   "metadata": {},
   "outputs": [
    {
     "name": "stdout",
     "output_type": "stream",
     "text": [
      "훈련 데이터 RMSE : 43082.050654857834\n",
      "테스트 데이터 RMSE :  60942.38524353489\n"
     ]
    }
   ],
   "source": [
    "import numpy as np\n",
    "from sklearn.metrics import mean_squared_error\n",
    "\n",
    "MSE_train = mean_squared_error(y_train,pred_train)\n",
    "MSE_test = mean_squared_error(y_test,pred_test)\n",
    "\n",
    "print(\"훈련 데이터 RMSE :\",np.sqrt(MSE_train))\n",
    "print(\"테스트 데이터 RMSE : \",np.sqrt(MSE_test))"
   ]
  },
  {
   "cell_type": "code",
   "execution_count": null,
   "id": "3f9f965f",
   "metadata": {},
   "outputs": [],
   "source": []
  }
 ],
 "metadata": {
  "kernelspec": {
   "display_name": "Python 3",
   "language": "python",
   "name": "python3"
  },
  "language_info": {
   "codemirror_mode": {
    "name": "ipython",
    "version": 3
   },
   "file_extension": ".py",
   "mimetype": "text/x-python",
   "name": "python",
   "nbconvert_exporter": "python",
   "pygments_lexer": "ipython3",
   "version": "3.8.8"
  }
 },
 "nbformat": 4,
 "nbformat_minor": 5
}
