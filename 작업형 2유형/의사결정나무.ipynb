{
 "cells": [
  {
   "cell_type": "code",
   "execution_count": 1,
   "id": "091f6fe5",
   "metadata": {},
   "outputs": [],
   "source": [
    "#분류\n",
    "import warnings\n",
    "warnings.filterwarnings(\"ignore\")\n",
    "import pandas as pd\n",
    "data = pd.read_csv(\"breast-cancer-wisconsin.csv\",encoding='utf-8')\n",
    "X = data[data.columns[1:10]]\n",
    "y = data[[\"Class\"]]\n",
    "\n",
    "from sklearn.model_selection import train_test_split\n",
    "X_train,X_test,y_train,y_test = train_test_split(X,y,stratify=y,random_state=42)\n",
    "\n",
    "#min-max\n",
    "\n",
    "from sklearn.preprocessing import MinMaxScaler\n",
    "scaler = MinMaxScaler()\n",
    "scaler.fit(X_train)\n",
    "\n",
    "X_scaled_train = scaler.transform(X_train)\n",
    "X_scaled_test = scaler.transform(X_test)"
   ]
  },
  {
   "cell_type": "code",
   "execution_count": 2,
   "id": "37367056",
   "metadata": {},
   "outputs": [
    {
     "data": {
      "text/plain": [
       "1.0"
      ]
     },
     "execution_count": 2,
     "metadata": {},
     "output_type": "execute_result"
    }
   ],
   "source": [
    "from sklearn.tree import DecisionTreeClassifier\n",
    "model=DecisionTreeClassifier()\n",
    "model.fit(X_scaled_train,y_train)\n",
    "pred_train = model.predict(X_scaled_train)\n",
    "model.score(X_scaled_train,y_train)"
   ]
  },
  {
   "cell_type": "code",
   "execution_count": 4,
   "id": "33c184d5",
   "metadata": {},
   "outputs": [
    {
     "name": "stdout",
     "output_type": "stream",
     "text": [
      "훈련 데이터 오차행렬 :\n",
      " [[333   0]\n",
      " [  0 179]]\n"
     ]
    }
   ],
   "source": [
    "from sklearn.metrics import confusion_matrix\n",
    "confusion_train = confusion_matrix(y_train,pred_train)\n",
    "print(\"훈련 데이터 오차행렬 :\\n\",confusion_train)"
   ]
  },
  {
   "cell_type": "code",
   "execution_count": 5,
   "id": "dbd4349c",
   "metadata": {},
   "outputs": [
    {
     "name": "stdout",
     "output_type": "stream",
     "text": [
      "분류예측 레포트 : \n",
      "               precision    recall  f1-score   support\n",
      "\n",
      "           0       1.00      1.00      1.00       333\n",
      "           1       1.00      1.00      1.00       179\n",
      "\n",
      "    accuracy                           1.00       512\n",
      "   macro avg       1.00      1.00      1.00       512\n",
      "weighted avg       1.00      1.00      1.00       512\n",
      "\n"
     ]
    }
   ],
   "source": [
    "from sklearn.metrics import classification_report\n",
    "cfreport_train = classification_report(y_train,pred_train)\n",
    "print(\"분류예측 레포트 : \\n\",cfreport_train)"
   ]
  },
  {
   "cell_type": "code",
   "execution_count": 6,
   "id": "93f09af5",
   "metadata": {},
   "outputs": [
    {
     "data": {
      "text/plain": [
       "0.9532163742690059"
      ]
     },
     "execution_count": 6,
     "metadata": {},
     "output_type": "execute_result"
    }
   ],
   "source": [
    "pred_test = model.predict(X_scaled_test)\n",
    "model.score(X_scaled_test,y_test)"
   ]
  },
  {
   "cell_type": "code",
   "execution_count": 7,
   "id": "a72e0f8f",
   "metadata": {},
   "outputs": [
    {
     "name": "stdout",
     "output_type": "stream",
     "text": [
      "테스트 데이터 오차행렬 : \n",
      " [[105   6]\n",
      " [  2  58]]\n"
     ]
    }
   ],
   "source": [
    "confusion_test = confusion_matrix(y_test,pred_test)\n",
    "print(\"테스트 데이터 오차행렬 : \\n\",confusion_test)"
   ]
  },
  {
   "cell_type": "code",
   "execution_count": 8,
   "id": "fb9503e9",
   "metadata": {},
   "outputs": [
    {
     "name": "stdout",
     "output_type": "stream",
     "text": [
      "분류 예측 레포트 : \n",
      "               precision    recall  f1-score   support\n",
      "\n",
      "           0       0.98      0.95      0.96       111\n",
      "           1       0.91      0.97      0.94        60\n",
      "\n",
      "    accuracy                           0.95       171\n",
      "   macro avg       0.94      0.96      0.95       171\n",
      "weighted avg       0.95      0.95      0.95       171\n",
      "\n"
     ]
    }
   ],
   "source": [
    "from sklearn.metrics import classification_report\n",
    "cfreport_test = classification_report(y_test,pred_test)\n",
    "print(\"분류 예측 레포트 : \\n\",cfreport_test)"
   ]
  },
  {
   "cell_type": "code",
   "execution_count": 9,
   "id": "bc13aeca",
   "metadata": {},
   "outputs": [
    {
     "data": {
      "text/plain": [
       "GridSearchCV(cv=5, estimator=DecisionTreeClassifier(),\n",
       "             param_grid={'max_depth': range(2, 20, 2),\n",
       "                         'min_samples_leaf': range(1, 50, 2)})"
      ]
     },
     "execution_count": 9,
     "metadata": {},
     "output_type": "execute_result"
    }
   ],
   "source": [
    "param_grid = {'max_depth':range(2,20,2),'min_samples_leaf':range(1,50,2)}\n",
    "from sklearn.model_selection import GridSearchCV\n",
    "grid_search=GridSearchCV(DecisionTreeClassifier(),param_grid,cv=5)\n",
    "grid_search.fit(X_scaled_train,y_train)"
   ]
  },
  {
   "cell_type": "code",
   "execution_count": 10,
   "id": "ff1c5886",
   "metadata": {},
   "outputs": [
    {
     "name": "stdout",
     "output_type": "stream",
     "text": [
      "Best Parameter :{'max_depth': 10, 'min_samples_leaf': 1}\n",
      "Best Score : 0.9628\n",
      "Test Set Score :0.9591\n"
     ]
    }
   ],
   "source": [
    "print(\"Best Parameter :{}\".format(grid_search.best_params_))\n",
    "print(\"Best Score : {:.4f}\".format(grid_search.best_score_))\n",
    "print(\"Test Set Score :{:.4f}\".format(grid_search.score(X_scaled_test,y_test)))"
   ]
  },
  {
   "cell_type": "code",
   "execution_count": 11,
   "id": "7f2476fa",
   "metadata": {},
   "outputs": [
    {
     "data": {
      "text/plain": [
       "RandomizedSearchCV(cv=5, estimator=DecisionTreeClassifier(), n_iter=20,\n",
       "                   param_distributions={'max_depth': <scipy.stats._distn_infrastructure.rv_frozen object at 0x0000027C3D1274C0>,\n",
       "                                        'min_samples_leaf': <scipy.stats._distn_infrastructure.rv_frozen object at 0x0000027C3D1276A0>})"
      ]
     },
     "execution_count": 11,
     "metadata": {},
     "output_type": "execute_result"
    }
   ],
   "source": [
    "from scipy.stats import randint\n",
    "param_distribs = {'max_depth':randint(low=1,high=20),'min_samples_leaf':randint(low=1,high=50)}\n",
    "from sklearn.model_selection import RandomizedSearchCV\n",
    "random_search = RandomizedSearchCV(DecisionTreeClassifier(),param_distributions=param_distribs,n_iter=20,cv=5)\n",
    "random_search.fit(X_scaled_train,y_train)"
   ]
  },
  {
   "cell_type": "code",
   "execution_count": 12,
   "id": "302ac5a7",
   "metadata": {},
   "outputs": [
    {
     "name": "stdout",
     "output_type": "stream",
     "text": [
      "Best Parameter :{'max_depth': 18, 'min_samples_leaf': 1}\n",
      "Best Score :0.9628\n",
      "Test Set Score :0.9474\n"
     ]
    }
   ],
   "source": [
    "print(\"Best Parameter :{}\".format(random_search.best_params_))\n",
    "print(\"Best Score :{:.4f}\".format(random_search.best_score_))\n",
    "print(\"Test Set Score :{:.4f}\".format(random_search.score(X_scaled_test,y_test)))"
   ]
  },
  {
   "cell_type": "code",
   "execution_count": 13,
   "id": "18d3b041",
   "metadata": {},
   "outputs": [],
   "source": [
    "#회귀\n",
    "\n",
    "data2 = pd.read_csv(\"house_price.csv\",encoding='utf-8')\n",
    "X = data2[data2.columns[1:5]]\n",
    "y = data2[[\"house_value\"]]\n",
    "\n",
    "from sklearn.model_selection import train_test_split\n",
    "X_train, X_test, y_train, y_test = train_test_split(X,y,random_state=42)\n",
    "\n",
    "from sklearn.preprocessing import MinMaxScaler\n",
    "scaler = MinMaxScaler()\n",
    "scaler.fit(X_train)\n",
    "X_scaled_train = scaler.transform(X_train)\n",
    "X_scaled_test = scaler.transform(X_test)"
   ]
  },
  {
   "cell_type": "code",
   "execution_count": 14,
   "id": "8874dc30",
   "metadata": {},
   "outputs": [
    {
     "data": {
      "text/plain": [
       "1.0"
      ]
     },
     "execution_count": 14,
     "metadata": {},
     "output_type": "execute_result"
    }
   ],
   "source": [
    "from sklearn.tree import DecisionTreeRegressor\n",
    "model = DecisionTreeRegressor()\n",
    "model.fit(X_scaled_train,y_train)\n",
    "pred_train = model.predict(X_scaled_train)\n",
    "model.score(X_scaled_train,y_train)"
   ]
  },
  {
   "cell_type": "code",
   "execution_count": 15,
   "id": "7cfb9453",
   "metadata": {},
   "outputs": [
    {
     "data": {
      "text/plain": [
       "0.23163166584418826"
      ]
     },
     "execution_count": 15,
     "metadata": {},
     "output_type": "execute_result"
    }
   ],
   "source": [
    "pred_test = model.predict(X_scaled_test)\n",
    "model.score(X_scaled_test,y_test)"
   ]
  },
  {
   "cell_type": "code",
   "execution_count": 17,
   "id": "863732aa",
   "metadata": {},
   "outputs": [
    {
     "name": "stdout",
     "output_type": "stream",
     "text": [
      "훈련 데이터 RMSE :  0.0\n",
      "테스트 데이터 RMSE :  83800.61447663057\n"
     ]
    }
   ],
   "source": [
    "import numpy as np\n",
    "from sklearn.metrics import mean_squared_error\n",
    "MSE_train = mean_squared_error(y_train,pred_train)\n",
    "MSE_test = mean_squared_error(y_test,pred_test)\n",
    "\n",
    "print(\"훈련 데이터 RMSE : \",np.sqrt(MSE_train))\n",
    "print(\"테스트 데이터 RMSE : \",np.sqrt(MSE_test))\n"
   ]
  },
  {
   "cell_type": "code",
   "execution_count": 18,
   "id": "da9da46e",
   "metadata": {},
   "outputs": [
    {
     "data": {
      "text/plain": [
       "GridSearchCV(cv=5, estimator=DecisionTreeRegressor(),\n",
       "             param_grid={'max_depth': range(2, 20, 2),\n",
       "                         'min_samples_leaf': range(1, 50, 2)})"
      ]
     },
     "execution_count": 18,
     "metadata": {},
     "output_type": "execute_result"
    }
   ],
   "source": [
    "param_grid = {'max_depth': range(2,20,2),'min_samples_leaf':range(1,50,2)}\n",
    "from sklearn.model_selection import GridSearchCV\n",
    "grid_search=GridSearchCV(DecisionTreeRegressor(),param_grid,cv=5)\n",
    "grid_search.fit(X_scaled_train,y_train)"
   ]
  },
  {
   "cell_type": "code",
   "execution_count": 19,
   "id": "b41dea61",
   "metadata": {},
   "outputs": [
    {
     "name": "stdout",
     "output_type": "stream",
     "text": [
      "Best Parameter :{'max_depth': 8, 'min_samples_leaf': 49}\n",
      "Best Score : 0.5592\n",
      "Test Set Score :0.5770\n"
     ]
    }
   ],
   "source": [
    "print(\"Best Parameter :{}\".format(grid_search.best_params_))\n",
    "print(\"Best Score : {:.4f}\".format(grid_search.best_score_))\n",
    "print(\"Test Set Score :{:.4f}\".format(grid_search.score(X_scaled_test,y_test)))"
   ]
  },
  {
   "cell_type": "code",
   "execution_count": 20,
   "id": "48f37983",
   "metadata": {},
   "outputs": [
    {
     "data": {
      "text/plain": [
       "RandomizedSearchCV(cv=5, estimator=DecisionTreeRegressor(), n_iter=20,\n",
       "                   param_distributions={'max_depth': <scipy.stats._distn_infrastructure.rv_frozen object at 0x0000027C3D098EB0>,\n",
       "                                        'min_samples_leaf': <scipy.stats._distn_infrastructure.rv_frozen object at 0x0000027C3966B1F0>})"
      ]
     },
     "execution_count": 20,
     "metadata": {},
     "output_type": "execute_result"
    }
   ],
   "source": [
    "param_distribs = {'max_depth': randint(low=1,high=20),'min_samples_leaf':randint(low=1,high=50)}\n",
    "from sklearn.model_selection import RandomizedSearchCV\n",
    "random_search = RandomizedSearchCV(DecisionTreeRegressor(),param_distributions = param_distribs,n_iter = 20,cv=5)\n",
    "random_search.fit(X_scaled_train,y_train)"
   ]
  },
  {
   "cell_type": "code",
   "execution_count": 21,
   "id": "30f55973",
   "metadata": {},
   "outputs": [
    {
     "name": "stdout",
     "output_type": "stream",
     "text": [
      "Best Parameter :{'max_depth': 9, 'min_samples_leaf': 41}\n",
      "Best Score :0.5557\n",
      "Test Set Score :0.5729\n"
     ]
    }
   ],
   "source": [
    "print(\"Best Parameter :{}\".format(random_search.best_params_))\n",
    "print(\"Best Score :{:.4f}\".format(random_search.best_score_))\n",
    "print(\"Test Set Score :{:.4f}\".format(random_search.score(X_scaled_test,y_test)))"
   ]
  },
  {
   "cell_type": "code",
   "execution_count": null,
   "id": "5dfddd96",
   "metadata": {},
   "outputs": [],
   "source": []
  }
 ],
 "metadata": {
  "kernelspec": {
   "display_name": "Python 3",
   "language": "python",
   "name": "python3"
  },
  "language_info": {
   "codemirror_mode": {
    "name": "ipython",
    "version": 3
   },
   "file_extension": ".py",
   "mimetype": "text/x-python",
   "name": "python",
   "nbconvert_exporter": "python",
   "pygments_lexer": "ipython3",
   "version": "3.8.8"
  }
 },
 "nbformat": 4,
 "nbformat_minor": 5
}
