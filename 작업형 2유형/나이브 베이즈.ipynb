{
 "cells": [
  {
   "cell_type": "code",
   "execution_count": 21,
   "id": "3d9fb63d",
   "metadata": {
    "scrolled": true
   },
   "outputs": [],
   "source": [
    "#분류\n",
    "import warnings\n",
    "warnings.filterwarnings(\"ignore\")\n",
    "import pandas as pd\n",
    "data = pd.read_csv(\"breast-cancer-wisconsin.csv\",encoding='utf-8')\n",
    "X = data[data.columns[1:10]]\n",
    "y = data[[\"Class\"]]\n",
    "\n",
    "from sklearn.model_selection import train_test_split\n",
    "X_train,X_test,y_train,y_test = train_test_split(X,y,stratify=y,random_state=42)\n",
    "\n",
    "#min-max\n",
    "\n",
    "from sklearn.preprocessing import MinMaxScaler\n",
    "scaler = MinMaxScaler()\n",
    "scaler.fit(X_train)\n",
    "\n",
    "X_scaled_train = scaler.transform(X_train)\n",
    "X_scaled_test = scaler.transform(X_test)"
   ]
  },
  {
   "cell_type": "code",
   "execution_count": 5,
   "id": "00b87a6b",
   "metadata": {},
   "outputs": [
    {
     "data": {
      "text/plain": [
       "0.966796875"
      ]
     },
     "execution_count": 5,
     "metadata": {},
     "output_type": "execute_result"
    }
   ],
   "source": [
    "from sklearn.naive_bayes import GaussianNB\n",
    "model = GaussianNB()\n",
    "model.fit(X_scaled_train,y_train)\n",
    "pred_train = model.predict(X_scaled_train)\n",
    "model.score(X_scaled_train,y_train)"
   ]
  },
  {
   "cell_type": "code",
   "execution_count": 6,
   "id": "1f6fe70c",
   "metadata": {},
   "outputs": [
    {
     "name": "stdout",
     "output_type": "stream",
     "text": [
      "훈련데이터 오차행렬 : \n",
      " [[319  14]\n",
      " [  3 176]]\n"
     ]
    }
   ],
   "source": [
    "from sklearn.metrics import confusion_matrix\n",
    "confusion_train = confusion_matrix(y_train, pred_train)\n",
    "print(\"훈련데이터 오차행렬 : \\n\",confusion_train)"
   ]
  },
  {
   "cell_type": "code",
   "execution_count": 7,
   "id": "4850afaa",
   "metadata": {},
   "outputs": [
    {
     "name": "stdout",
     "output_type": "stream",
     "text": [
      "분류예측 레포트 : \n",
      "               precision    recall  f1-score   support\n",
      "\n",
      "           0       0.99      0.96      0.97       333\n",
      "           1       0.93      0.98      0.95       179\n",
      "\n",
      "    accuracy                           0.97       512\n",
      "   macro avg       0.96      0.97      0.96       512\n",
      "weighted avg       0.97      0.97      0.97       512\n",
      "\n"
     ]
    }
   ],
   "source": [
    "from sklearn.metrics import classification_report\n",
    "cfreport_train = classification_report(y_train,pred_train)\n",
    "print(\"분류예측 레포트 : \\n\",cfreport_train)"
   ]
  },
  {
   "cell_type": "code",
   "execution_count": 8,
   "id": "775a3df0",
   "metadata": {},
   "outputs": [
    {
     "data": {
      "text/plain": [
       "0.9590643274853801"
      ]
     },
     "execution_count": 8,
     "metadata": {},
     "output_type": "execute_result"
    }
   ],
   "source": [
    "pred_test = model.predict(X_scaled_test)\n",
    "model.score(X_scaled_test,y_test)"
   ]
  },
  {
   "cell_type": "code",
   "execution_count": 9,
   "id": "7bab46d6",
   "metadata": {},
   "outputs": [
    {
     "name": "stdout",
     "output_type": "stream",
     "text": [
      "테스트데이터 오차행렬 : \n",
      " [[106   5]\n",
      " [  2  58]]\n"
     ]
    }
   ],
   "source": [
    "confusion_test = confusion_matrix(y_test,pred_test)\n",
    "print(\"테스트데이터 오차행렬 : \\n\",confusion_test)"
   ]
  },
  {
   "cell_type": "code",
   "execution_count": 10,
   "id": "ebc7f955",
   "metadata": {},
   "outputs": [
    {
     "name": "stdout",
     "output_type": "stream",
     "text": [
      "분류예측 레포트 : \n",
      "               precision    recall  f1-score   support\n",
      "\n",
      "           0       0.98      0.95      0.97       111\n",
      "           1       0.92      0.97      0.94        60\n",
      "\n",
      "    accuracy                           0.96       171\n",
      "   macro avg       0.95      0.96      0.96       171\n",
      "weighted avg       0.96      0.96      0.96       171\n",
      "\n"
     ]
    }
   ],
   "source": [
    "from sklearn.metrics import classification_report\n",
    "cfreport_test = classification_report(y_test,pred_test)\n",
    "print(\"분류예측 레포트 : \\n\",cfreport_test)"
   ]
  },
  {
   "cell_type": "code",
   "execution_count": 12,
   "id": "a27cdb89",
   "metadata": {},
   "outputs": [
    {
     "data": {
      "text/plain": [
       "GridSearchCV(cv=5, estimator=GaussianNB(),\n",
       "             param_grid={'var_smoothing': [0, 1, 2, 3, 4, 5, 6, 7, 8, 9, 10]})"
      ]
     },
     "execution_count": 12,
     "metadata": {},
     "output_type": "execute_result"
    }
   ],
   "source": [
    "param_grid = {'var_smoothing':[0,1,2,3,4,5,6,7,8,9,10]}\n",
    "from sklearn.model_selection import GridSearchCV\n",
    "grid_search = GridSearchCV(GaussianNB(),param_grid,cv=5)\n",
    "grid_search.fit(X_scaled_train,y_train)"
   ]
  },
  {
   "cell_type": "code",
   "execution_count": 13,
   "id": "49b18c64",
   "metadata": {},
   "outputs": [
    {
     "name": "stdout",
     "output_type": "stream",
     "text": [
      "Best Parameter : {'var_smoothing': 0}\n",
      "Best Score : 0.9649\n",
      "Test Set Score : 0.9591\n"
     ]
    }
   ],
   "source": [
    "print(\"Best Parameter : {}\".format(grid_search.best_params_))\n",
    "print(\"Best Score : {:.4f}\".format(grid_search.best_score_))\n",
    "print(\"Test Set Score : {:.4f}\".format(grid_search.score(X_scaled_test,y_test)))"
   ]
  },
  {
   "cell_type": "code",
   "execution_count": 14,
   "id": "f41eb07b",
   "metadata": {},
   "outputs": [
    {
     "data": {
      "text/plain": [
       "RandomizedSearchCV(cv=5, estimator=GaussianNB(), n_iter=100,\n",
       "                   param_distributions={'var_smoothing': <scipy.stats._distn_infrastructure.rv_frozen object at 0x00000170EF241BE0>})"
      ]
     },
     "execution_count": 14,
     "metadata": {},
     "output_type": "execute_result"
    }
   ],
   "source": [
    "from scipy.stats import randint\n",
    "param_distribs = {'var_smoothing': randint(low=0,high=20)}\n",
    "from sklearn.model_selection import RandomizedSearchCV\n",
    "random_search = RandomizedSearchCV(GaussianNB(),param_distributions=param_distribs,n_iter=100,cv=5)\n",
    "random_search.fit(X_scaled_train,y_train)"
   ]
  },
  {
   "cell_type": "code",
   "execution_count": 15,
   "id": "e2121066",
   "metadata": {},
   "outputs": [
    {
     "name": "stdout",
     "output_type": "stream",
     "text": [
      "Best Parameter : {'var_smoothing': 0}\n",
      "Best Score : 0.9649\n",
      "Test Set Score : 0.9591\n"
     ]
    }
   ],
   "source": [
    "print(\"Best Parameter : {}\".format(random_search.best_params_))\n",
    "print(\"Best Score : {:.4f}\".format(random_search.best_score_))\n",
    "print(\"Test Set Score : {:.4f}\".format(random_search.score(X_scaled_test,y_test)))"
   ]
  },
  {
   "cell_type": "code",
   "execution_count": 22,
   "id": "f6a6628e",
   "metadata": {},
   "outputs": [],
   "source": [
    "#회귀\n",
    "\n",
    "data2 = pd.read_csv(\"house_price.csv\",encoding='utf-8')\n",
    "X = data2[data2.columns[1:5]]\n",
    "y = data2[[\"house_value\"]]\n",
    "\n",
    "from sklearn.model_selection import train_test_split\n",
    "X_train, X_test, y_train, y_test = train_test_split(X,y,random_state=42)\n",
    "\n",
    "from sklearn.preprocessing import MinMaxScaler\n",
    "scaler = MinMaxScaler()\n",
    "scaler.fit(X_train)\n",
    "X_scaled_train = scaler.transform(X_train)\n",
    "X_scaled_test = scaler.transform(X_test)"
   ]
  },
  {
   "cell_type": "code",
   "execution_count": 23,
   "id": "056f833f",
   "metadata": {},
   "outputs": [
    {
     "data": {
      "text/plain": [
       "0.5455724466331763"
      ]
     },
     "execution_count": 23,
     "metadata": {},
     "output_type": "execute_result"
    }
   ],
   "source": [
    "from sklearn.linear_model import BayesianRidge\n",
    "model = BayesianRidge()\n",
    "model.fit(X_scaled_train,y_train)\n",
    "pred_train = model.predict(X_scaled_train)\n",
    "model.score(X_scaled_train,y_train)"
   ]
  },
  {
   "cell_type": "code",
   "execution_count": 24,
   "id": "8b58c045",
   "metadata": {},
   "outputs": [
    {
     "data": {
      "text/plain": [
       "0.5626859871488648"
      ]
     },
     "execution_count": 24,
     "metadata": {},
     "output_type": "execute_result"
    }
   ],
   "source": [
    "pred_test = model.predict(X_scaled_test)\n",
    "model.score(X_scaled_test,y_test)"
   ]
  },
  {
   "cell_type": "code",
   "execution_count": 25,
   "id": "3b797328",
   "metadata": {},
   "outputs": [
    {
     "name": "stdout",
     "output_type": "stream",
     "text": [
      "훈련 데이터 RMSE : 64340.34302948542\n",
      "테스트 데이터 RMSE : 63220.68115643447\n"
     ]
    }
   ],
   "source": [
    "#RMSE\n",
    "import numpy as np\n",
    "from sklearn.metrics import mean_squared_error\n",
    "MSE_train = mean_squared_error(y_train,pred_train)\n",
    "MSE_test = mean_squared_error(y_test,pred_test)\n",
    "\n",
    "print(\"훈련 데이터 RMSE :\",np.sqrt(MSE_train))\n",
    "print(\"테스트 데이터 RMSE :\",np.sqrt(MSE_test))"
   ]
  },
  {
   "cell_type": "code",
   "execution_count": 26,
   "id": "f382e207",
   "metadata": {},
   "outputs": [
    {
     "data": {
      "text/plain": [
       "GridSearchCV(cv=5, estimator=BayesianRidge(),\n",
       "             param_grid={'alpha_1': [1e-06, 1e-05, 0.0001, 0.001, 0.01, 0.1, 1,\n",
       "                                     2, 3, 4],\n",
       "                         'lambda_1': [1e-06, 1e-05, 0.0001, 0.001, 0.01, 0.1, 1,\n",
       "                                      2, 3, 4]})"
      ]
     },
     "execution_count": 26,
     "metadata": {},
     "output_type": "execute_result"
    }
   ],
   "source": [
    "param_grid = {'alpha_1':[1e-06,1e-05,1e-04,1e-03,1e-02,1e-01,1,2,3,4],'lambda_1':[1e-06,1e-05,1e-04,1e-03,1e-02,1e-01,1,2,3,4]}\n",
    "from sklearn.model_selection import GridSearchCV\n",
    "grid_search = GridSearchCV(BayesianRidge(),param_grid,cv=5)\n",
    "grid_search.fit(X_scaled_train,y_train)"
   ]
  },
  {
   "cell_type": "code",
   "execution_count": 27,
   "id": "79655967",
   "metadata": {},
   "outputs": [
    {
     "name": "stdout",
     "output_type": "stream",
     "text": [
      "Best Parameter : {'alpha_1': 4, 'lambda_1': 1e-06}\n",
      "Best Score : 0.5452\n",
      "Test Set Score : 0.5627\n"
     ]
    }
   ],
   "source": [
    "print(\"Best Parameter : {}\".format(grid_search.best_params_))\n",
    "print(\"Best Score : {:.4f}\".format(grid_search.best_score_))\n",
    "print(\"Test Set Score : {:.4f}\".format(grid_search.score(X_scaled_test,y_test)))"
   ]
  },
  {
   "cell_type": "code",
   "execution_count": 28,
   "id": "007c1ec1",
   "metadata": {},
   "outputs": [
    {
     "data": {
      "text/plain": [
       "RandomizedSearchCV(cv=5, estimator=BayesianRidge(), n_iter=50,\n",
       "                   param_distributions={'alpha_1': <scipy.stats._distn_infrastructure.rv_frozen object at 0x00000170EBB01250>,\n",
       "                                        'lambda_1': <scipy.stats._distn_infrastructure.rv_frozen object at 0x00000170EF1CDAC0>})"
      ]
     },
     "execution_count": 28,
     "metadata": {},
     "output_type": "execute_result"
    }
   ],
   "source": [
    "param_distribs = {'alpha_1':randint(low=1e-06,high=10),'lambda_1':randint(low=1e-06,high=10)}\n",
    "from sklearn.model_selection import RandomizedSearchCV\n",
    "random_search = RandomizedSearchCV(BayesianRidge(),param_distributions=param_distribs,n_iter = 50, cv=5)\n",
    "random_search.fit(X_scaled_train,y_train)"
   ]
  },
  {
   "cell_type": "code",
   "execution_count": 29,
   "id": "cee3a967",
   "metadata": {},
   "outputs": [
    {
     "name": "stdout",
     "output_type": "stream",
     "text": [
      "Best Parameter: {'alpha_1': 3, 'lambda_1': 0}\n",
      "Best Score :0.5452\n",
      "Test Set Score : 0.5627\n"
     ]
    }
   ],
   "source": [
    "print(\"Best Parameter: {}\".format(random_search.best_params_))\n",
    "print(\"Best Score :{:.4f}\".format(random_search.best_score_))\n",
    "print(\"Test Set Score : {:.4f}\".format(random_search.score(X_scaled_test,y_test)))"
   ]
  },
  {
   "cell_type": "code",
   "execution_count": null,
   "id": "94387a93",
   "metadata": {},
   "outputs": [],
   "source": []
  }
 ],
 "metadata": {
  "kernelspec": {
   "display_name": "Python 3",
   "language": "python",
   "name": "python3"
  },
  "language_info": {
   "codemirror_mode": {
    "name": "ipython",
    "version": 3
   },
   "file_extension": ".py",
   "mimetype": "text/x-python",
   "name": "python",
   "nbconvert_exporter": "python",
   "pygments_lexer": "ipython3",
   "version": "3.8.8"
  }
 },
 "nbformat": 4,
 "nbformat_minor": 5
}
