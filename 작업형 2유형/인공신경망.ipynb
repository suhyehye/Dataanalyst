{
 "cells": [
  {
   "cell_type": "code",
   "execution_count": 1,
   "id": "f678dbc6",
   "metadata": {},
   "outputs": [],
   "source": [
    "#분류\n",
    "import warnings\n",
    "warnings.filterwarnings(\"ignore\")\n",
    "import pandas as pd\n",
    "data = pd.read_csv(\"breast-cancer-wisconsin.csv\",encoding='utf-8')\n",
    "X = data[data.columns[1:10]]\n",
    "y = data[[\"Class\"]]\n",
    "\n",
    "from sklearn.model_selection import train_test_split\n",
    "X_train,X_test,y_train,y_test = train_test_split(X,y,stratify=y,random_state=42)\n",
    "\n",
    "#min-max\n",
    "\n",
    "from sklearn.preprocessing import MinMaxScaler\n",
    "scaler = MinMaxScaler()\n",
    "scaler.fit(X_train)\n",
    "\n",
    "X_scaled_train = scaler.transform(X_train)\n",
    "X_scaled_test = scaler.transform(X_test)"
   ]
  },
  {
   "cell_type": "code",
   "execution_count": 2,
   "id": "739434ce",
   "metadata": {},
   "outputs": [
    {
     "data": {
      "text/plain": [
       "0.974609375"
      ]
     },
     "execution_count": 2,
     "metadata": {},
     "output_type": "execute_result"
    }
   ],
   "source": [
    "from sklearn.neural_network import MLPClassifier\n",
    "model = MLPClassifier()\n",
    "model.fit(X_scaled_train,y_train)\n",
    "pred_train = model.predict(X_scaled_train)\n",
    "model.score(X_scaled_train,y_train)"
   ]
  },
  {
   "cell_type": "code",
   "execution_count": 4,
   "id": "09da26eb",
   "metadata": {},
   "outputs": [
    {
     "name": "stdout",
     "output_type": "stream",
     "text": [
      "훈련 데이터 오차행렬 :\n",
      " [[328   5]\n",
      " [  8 171]]\n"
     ]
    }
   ],
   "source": [
    "from sklearn.metrics import confusion_matrix\n",
    "confusion_train = confusion_matrix(y_train,pred_train)\n",
    "print(\"훈련 데이터 오차행렬 :\\n\",confusion_train)"
   ]
  },
  {
   "cell_type": "code",
   "execution_count": 6,
   "id": "26990ed9",
   "metadata": {},
   "outputs": [
    {
     "name": "stdout",
     "output_type": "stream",
     "text": [
      "분류예측 레포트 :\n",
      "               precision    recall  f1-score   support\n",
      "\n",
      "           0       0.98      0.98      0.98       333\n",
      "           1       0.97      0.96      0.96       179\n",
      "\n",
      "    accuracy                           0.97       512\n",
      "   macro avg       0.97      0.97      0.97       512\n",
      "weighted avg       0.97      0.97      0.97       512\n",
      "\n"
     ]
    }
   ],
   "source": [
    "from sklearn.metrics import classification_report \n",
    "cfreport_train = classification_report(y_train,pred_train)\n",
    "print(\"분류예측 레포트 :\\n\",cfreport_train)"
   ]
  },
  {
   "cell_type": "code",
   "execution_count": 7,
   "id": "6b8b7790",
   "metadata": {},
   "outputs": [
    {
     "data": {
      "text/plain": [
       "0.9590643274853801"
      ]
     },
     "execution_count": 7,
     "metadata": {},
     "output_type": "execute_result"
    }
   ],
   "source": [
    "pred_test = model.predict(X_scaled_test)\n",
    "model.score(X_scaled_test,y_test)"
   ]
  },
  {
   "cell_type": "code",
   "execution_count": 8,
   "id": "f0469034",
   "metadata": {},
   "outputs": [
    {
     "name": "stdout",
     "output_type": "stream",
     "text": [
      "테스트 데이터 오차행렬 : \n",
      " [[106   5]\n",
      " [  2  58]]\n"
     ]
    }
   ],
   "source": [
    "confusion_test = confusion_matrix(y_test,pred_test)\n",
    "print(\"테스트 데이터 오차행렬 : \\n\",confusion_test)"
   ]
  },
  {
   "cell_type": "code",
   "execution_count": 10,
   "id": "736649be",
   "metadata": {},
   "outputs": [
    {
     "name": "stdout",
     "output_type": "stream",
     "text": [
      "분류예측 레포트 : \n",
      "               precision    recall  f1-score   support\n",
      "\n",
      "           0       0.98      0.95      0.97       111\n",
      "           1       0.92      0.97      0.94        60\n",
      "\n",
      "    accuracy                           0.96       171\n",
      "   macro avg       0.95      0.96      0.96       171\n",
      "weighted avg       0.96      0.96      0.96       171\n",
      "\n"
     ]
    }
   ],
   "source": [
    "from sklearn.metrics import classification_report\n",
    "cfreport_test = classification_report(y_test,pred_test)\n",
    "print(\"분류예측 레포트 : \\n\",cfreport_test)"
   ]
  },
  {
   "cell_type": "code",
   "execution_count": 11,
   "id": "03783d7e",
   "metadata": {},
   "outputs": [
    {
     "data": {
      "text/plain": [
       "GridSearchCV(cv=5, estimator=MLPClassifier(),\n",
       "             param_grid={'activation': ['tanh', 'relu'],\n",
       "                         'hidden_layer_sizes': [10, 30, 50, 100],\n",
       "                         'solver': ['sgd', 'adam']})"
      ]
     },
     "execution_count": 11,
     "metadata": {},
     "output_type": "execute_result"
    }
   ],
   "source": [
    "param_grid = {'hidden_layer_sizes':[10,30,50,100],'solver':['sgd','adam'],'activation':['tanh','relu']}\n",
    "from sklearn.model_selection import GridSearchCV\n",
    "grid_search = GridSearchCV(MLPClassifier(),param_grid,cv=5)\n",
    "grid_search.fit(X_scaled_train,y_train)"
   ]
  },
  {
   "cell_type": "code",
   "execution_count": 12,
   "id": "4ca5cd0b",
   "metadata": {},
   "outputs": [
    {
     "name": "stdout",
     "output_type": "stream",
     "text": [
      "Best Parameter: {'activation': 'relu', 'hidden_layer_sizes': 30, 'solver': 'adam'}\n",
      "Best Score : 0.9746\n",
      "Test Set Score : 0.9591\n"
     ]
    }
   ],
   "source": [
    "print(\"Best Parameter: {}\".format(grid_search.best_params_))\n",
    "print(\"Best Score : {:.4f}\".format(grid_search.best_score_))\n",
    "print(\"Test Set Score : {:.4f}\".format(grid_search.score(X_scaled_test,y_test)))"
   ]
  },
  {
   "cell_type": "code",
   "execution_count": 15,
   "id": "7d2cc711",
   "metadata": {},
   "outputs": [
    {
     "data": {
      "text/plain": [
       "RandomizedSearchCV(cv=5, estimator=MLPClassifier(),\n",
       "                   param_distributions={'activation': ['tanh', 'relu'],\n",
       "                                        'hidden_layer_sizes': <scipy.stats._distn_infrastructure.rv_frozen object at 0x00000296372BE250>,\n",
       "                                        'solver': ['sgd', 'adam']})"
      ]
     },
     "execution_count": 15,
     "metadata": {},
     "output_type": "execute_result"
    }
   ],
   "source": [
    "from scipy.stats import randint\n",
    "param_distribs = {'hidden_layer_sizes': randint(low=10,high=100),'solver':['sgd','adam'],'activation':['tanh','relu']}\n",
    "from sklearn.model_selection import RandomizedSearchCV\n",
    "random_search = RandomizedSearchCV(MLPClassifier(),param_distributions=param_distribs,n_iter=10,cv=5)\n",
    "random_search.fit(X_scaled_train,y_train)"
   ]
  },
  {
   "cell_type": "code",
   "execution_count": 16,
   "id": "58105eeb",
   "metadata": {},
   "outputs": [
    {
     "name": "stdout",
     "output_type": "stream",
     "text": [
      "Best Parameter: {'activation': 'tanh', 'hidden_layer_sizes': 31, 'solver': 'adam'}\n",
      "Best Score : 0.9765\n",
      "Test Set Score : 0.9591\n"
     ]
    }
   ],
   "source": [
    "print(\"Best Parameter: {}\".format(random_search.best_params_))\n",
    "print(\"Best Score : {:.4f}\".format(random_search.best_score_))\n",
    "print(\"Test Set Score : {:.4f}\".format(random_search.score(X_scaled_test,y_test)))"
   ]
  },
  {
   "cell_type": "code",
   "execution_count": 17,
   "id": "fe0d9c2d",
   "metadata": {},
   "outputs": [],
   "source": [
    "#회귀\n",
    "\n",
    "data2 = pd.read_csv(\"house_price.csv\",encoding='utf-8')\n",
    "X = data2[data2.columns[1:5]]\n",
    "y = data2[[\"house_value\"]]\n",
    "\n",
    "from sklearn.model_selection import train_test_split\n",
    "X_train, X_test, y_train, y_test = train_test_split(X,y,random_state=42)\n",
    "\n",
    "from sklearn.preprocessing import MinMaxScaler\n",
    "scaler = MinMaxScaler()\n",
    "scaler.fit(X_train)\n",
    "X_scaled_train = scaler.transform(X_train)\n",
    "X_scaled_test = scaler.transform(X_test)"
   ]
  },
  {
   "cell_type": "code",
   "execution_count": 18,
   "id": "7169f64e",
   "metadata": {},
   "outputs": [
    {
     "data": {
      "text/plain": [
       "-2.8016950802586837"
      ]
     },
     "execution_count": 18,
     "metadata": {},
     "output_type": "execute_result"
    }
   ],
   "source": [
    "from sklearn.neural_network import MLPRegressor\n",
    "model = MLPRegressor()\n",
    "model.fit(X_scaled_train,y_train)\n",
    "pred_train = model.predict(X_scaled_train)\n",
    "model.score(X_scaled_train,y_train)"
   ]
  },
  {
   "cell_type": "code",
   "execution_count": 19,
   "id": "b6fc7426",
   "metadata": {},
   "outputs": [
    {
     "data": {
      "text/plain": [
       "-2.759227646731814"
      ]
     },
     "execution_count": 19,
     "metadata": {},
     "output_type": "execute_result"
    }
   ],
   "source": [
    "pred_test = model.predict(X_scaled_test)\n",
    "model.score(X_scaled_test,y_test)"
   ]
  },
  {
   "cell_type": "code",
   "execution_count": 21,
   "id": "e891eb13",
   "metadata": {},
   "outputs": [
    {
     "name": "stdout",
     "output_type": "stream",
     "text": [
      "훈련데이터 RMSE : 186097.13379799746\n",
      "테스트데이터 RMSE : 185358.19295521578\n"
     ]
    }
   ],
   "source": [
    "import numpy as np\n",
    "from sklearn.metrics import mean_squared_error\n",
    "MSE_train = mean_squared_error(y_train,pred_train)\n",
    "MSE_test = mean_squared_error(y_test,pred_test)\n",
    "\n",
    "print(\"훈련데이터 RMSE :\",np.sqrt(MSE_train))\n",
    "print(\"테스트데이터 RMSE :\",np.sqrt(MSE_test))"
   ]
  },
  {
   "cell_type": "code",
   "execution_count": 22,
   "id": "45365a3f",
   "metadata": {},
   "outputs": [
    {
     "data": {
      "text/plain": [
       "0.566197903746314"
      ]
     },
     "execution_count": 22,
     "metadata": {},
     "output_type": "execute_result"
    }
   ],
   "source": [
    "from sklearn.neural_network import MLPRegressor\n",
    "model = MLPRegressor(hidden_layer_sizes = (64,64,64),activation = \"relu\",random_state =1, max_iter = 2000)\n",
    "model.fit(X_scaled_train,y_train)\n",
    "pred_train = model.predict(X_scaled_train)\n",
    "model.score(X_scaled_train,y_train)"
   ]
  },
  {
   "cell_type": "code",
   "execution_count": 23,
   "id": "c95e5fce",
   "metadata": {},
   "outputs": [
    {
     "data": {
      "text/plain": [
       "0.584086684313508"
      ]
     },
     "execution_count": 23,
     "metadata": {},
     "output_type": "execute_result"
    }
   ],
   "source": [
    "pred_test = model.predict(X_scaled_test)\n",
    "model.score(X_scaled_test,y_test)"
   ]
  },
  {
   "cell_type": "code",
   "execution_count": 24,
   "id": "7fa714db",
   "metadata": {},
   "outputs": [
    {
     "name": "stdout",
     "output_type": "stream",
     "text": [
      "훈련데이터 RMSE : 62863.255358058195\n",
      "테스트데이터 RMSE : 61654.37310884089\n"
     ]
    }
   ],
   "source": [
    "import numpy as np\n",
    "from sklearn.metrics import mean_squared_error\n",
    "MSE_train = mean_squared_error(y_train,pred_train)\n",
    "MSE_test = mean_squared_error(y_test,pred_test)\n",
    "\n",
    "print(\"훈련데이터 RMSE :\",np.sqrt(MSE_train))\n",
    "print(\"테스트데이터 RMSE :\",np.sqrt(MSE_test))"
   ]
  },
  {
   "cell_type": "code",
   "execution_count": null,
   "id": "83f75b47",
   "metadata": {},
   "outputs": [],
   "source": []
  }
 ],
 "metadata": {
  "kernelspec": {
   "display_name": "Python 3",
   "language": "python",
   "name": "python3"
  },
  "language_info": {
   "codemirror_mode": {
    "name": "ipython",
    "version": 3
   },
   "file_extension": ".py",
   "mimetype": "text/x-python",
   "name": "python",
   "nbconvert_exporter": "python",
   "pygments_lexer": "ipython3",
   "version": "3.8.8"
  }
 },
 "nbformat": 4,
 "nbformat_minor": 5
}
