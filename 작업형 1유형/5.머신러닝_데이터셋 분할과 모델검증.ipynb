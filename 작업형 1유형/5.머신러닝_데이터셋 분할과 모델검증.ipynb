{
 "cells": [
  {
   "cell_type": "code",
   "execution_count": 2,
   "id": "d22dd4e8",
   "metadata": {},
   "outputs": [
    {
     "data": {
      "text/html": [
       "<div>\n",
       "<style scoped>\n",
       "    .dataframe tbody tr th:only-of-type {\n",
       "        vertical-align: middle;\n",
       "    }\n",
       "\n",
       "    .dataframe tbody tr th {\n",
       "        vertical-align: top;\n",
       "    }\n",
       "\n",
       "    .dataframe thead th {\n",
       "        text-align: right;\n",
       "    }\n",
       "</style>\n",
       "<table border=\"1\" class=\"dataframe\">\n",
       "  <thead>\n",
       "    <tr style=\"text-align: right;\">\n",
       "      <th></th>\n",
       "      <th>Unnamed: 0</th>\n",
       "      <th>gender_female</th>\n",
       "      <th>gender_male</th>\n",
       "      <th>region_Chungcheung</th>\n",
       "      <th>region_Honam</th>\n",
       "      <th>region_Others</th>\n",
       "      <th>region_Sudo</th>\n",
       "      <th>region_Youngman</th>\n",
       "      <th>edu</th>\n",
       "      <th>income</th>\n",
       "      <th>age</th>\n",
       "      <th>score_gov</th>\n",
       "      <th>score_progress</th>\n",
       "      <th>score_intention</th>\n",
       "      <th>vote</th>\n",
       "      <th>parties</th>\n",
       "    </tr>\n",
       "  </thead>\n",
       "  <tbody>\n",
       "    <tr>\n",
       "      <th>0</th>\n",
       "      <td>0</td>\n",
       "      <td>0</td>\n",
       "      <td>1</td>\n",
       "      <td>0</td>\n",
       "      <td>0</td>\n",
       "      <td>0</td>\n",
       "      <td>0</td>\n",
       "      <td>1</td>\n",
       "      <td>3</td>\n",
       "      <td>3</td>\n",
       "      <td>3</td>\n",
       "      <td>2</td>\n",
       "      <td>2</td>\n",
       "      <td>4.0</td>\n",
       "      <td>1</td>\n",
       "      <td>2</td>\n",
       "    </tr>\n",
       "    <tr>\n",
       "      <th>1</th>\n",
       "      <td>1</td>\n",
       "      <td>0</td>\n",
       "      <td>1</td>\n",
       "      <td>0</td>\n",
       "      <td>0</td>\n",
       "      <td>1</td>\n",
       "      <td>0</td>\n",
       "      <td>0</td>\n",
       "      <td>2</td>\n",
       "      <td>3</td>\n",
       "      <td>3</td>\n",
       "      <td>2</td>\n",
       "      <td>4</td>\n",
       "      <td>3.0</td>\n",
       "      <td>0</td>\n",
       "      <td>3</td>\n",
       "    </tr>\n",
       "    <tr>\n",
       "      <th>2</th>\n",
       "      <td>2</td>\n",
       "      <td>0</td>\n",
       "      <td>1</td>\n",
       "      <td>0</td>\n",
       "      <td>1</td>\n",
       "      <td>0</td>\n",
       "      <td>0</td>\n",
       "      <td>0</td>\n",
       "      <td>1</td>\n",
       "      <td>2</td>\n",
       "      <td>4</td>\n",
       "      <td>1</td>\n",
       "      <td>3</td>\n",
       "      <td>2.8</td>\n",
       "      <td>1</td>\n",
       "      <td>4</td>\n",
       "    </tr>\n",
       "    <tr>\n",
       "      <th>3</th>\n",
       "      <td>3</td>\n",
       "      <td>1</td>\n",
       "      <td>0</td>\n",
       "      <td>0</td>\n",
       "      <td>0</td>\n",
       "      <td>0</td>\n",
       "      <td>1</td>\n",
       "      <td>0</td>\n",
       "      <td>2</td>\n",
       "      <td>1</td>\n",
       "      <td>3</td>\n",
       "      <td>5</td>\n",
       "      <td>4</td>\n",
       "      <td>2.6</td>\n",
       "      <td>1</td>\n",
       "      <td>1</td>\n",
       "    </tr>\n",
       "    <tr>\n",
       "      <th>4</th>\n",
       "      <td>4</td>\n",
       "      <td>0</td>\n",
       "      <td>1</td>\n",
       "      <td>0</td>\n",
       "      <td>0</td>\n",
       "      <td>0</td>\n",
       "      <td>1</td>\n",
       "      <td>0</td>\n",
       "      <td>1</td>\n",
       "      <td>2</td>\n",
       "      <td>4</td>\n",
       "      <td>4</td>\n",
       "      <td>3</td>\n",
       "      <td>2.4</td>\n",
       "      <td>1</td>\n",
       "      <td>1</td>\n",
       "    </tr>\n",
       "  </tbody>\n",
       "</table>\n",
       "</div>"
      ],
      "text/plain": [
       "   Unnamed: 0  gender_female  gender_male  region_Chungcheung  region_Honam  \\\n",
       "0           0              0            1                   0             0   \n",
       "1           1              0            1                   0             0   \n",
       "2           2              0            1                   0             1   \n",
       "3           3              1            0                   0             0   \n",
       "4           4              0            1                   0             0   \n",
       "\n",
       "   region_Others  region_Sudo  region_Youngman  edu  income  age  score_gov  \\\n",
       "0              0            0                1    3       3    3          2   \n",
       "1              1            0                0    2       3    3          2   \n",
       "2              0            0                0    1       2    4          1   \n",
       "3              0            1                0    2       1    3          5   \n",
       "4              0            1                0    1       2    4          4   \n",
       "\n",
       "   score_progress  score_intention  vote  parties  \n",
       "0               2              4.0     1        2  \n",
       "1               4              3.0     0        3  \n",
       "2               3              2.8     1        4  \n",
       "3               4              2.6     1        1  \n",
       "4               3              2.4     1        1  "
      ]
     },
     "execution_count": 2,
     "metadata": {},
     "output_type": "execute_result"
    }
   ],
   "source": [
    "import warnings\n",
    "warnings.filterwarnings(\"ignore\")\n",
    "\n",
    "import pandas as pd\n",
    "data = pd.read_csv(\"Fvote.csv\",encoding='utf-8')\n",
    "data.head()"
   ]
  },
  {
   "cell_type": "code",
   "execution_count": 5,
   "id": "17638882",
   "metadata": {},
   "outputs": [],
   "source": [
    "#1.특성 이름으로 데이터셋 분할\n",
    "X = data[['gender_female','gender_male','region_Chungcheung','region_Honam','region_Others','region_Sudo','region_Youngman','edu','income','age','score_gov','score_progress','score_intention']]\n",
    "\n",
    "#2.특성 위치값으로 데이터셋 분할\n",
    "X = data[data.columns[1:14]]\n",
    "\n",
    "#loc함수 이용\n",
    "X = data.loc[:,'gender_female':'score_intention']"
   ]
  },
  {
   "cell_type": "code",
   "execution_count": 4,
   "id": "a05d3872",
   "metadata": {},
   "outputs": [],
   "source": [
    "y = data[['vote']]"
   ]
  },
  {
   "cell_type": "code",
   "execution_count": 6,
   "id": "bb873aa4",
   "metadata": {},
   "outputs": [],
   "source": [
    "#train-test\n",
    "\n",
    "from sklearn.model_selection import train_test_split\n",
    "X_train, X_test, y_train, y_test = train_test_split(X,y,stratify=y,random_state=42)"
   ]
  },
  {
   "cell_type": "code",
   "execution_count": 7,
   "id": "7661a80f",
   "metadata": {},
   "outputs": [
    {
     "name": "stdout",
     "output_type": "stream",
     "text": [
      "(158, 13)\n",
      "(53, 13)\n"
     ]
    }
   ],
   "source": [
    "#데이터셋 행렬 구조 확인\n",
    "print(X_train.shape)\n",
    "print(X_test.shape)"
   ]
  },
  {
   "cell_type": "code",
   "execution_count": 8,
   "id": "573c39f4",
   "metadata": {},
   "outputs": [],
   "source": [
    "#모델 적용\n",
    "from sklearn.linear_model import LogisticRegression\n",
    "model = LogisticRegression()"
   ]
  },
  {
   "cell_type": "code",
   "execution_count": 9,
   "id": "ef058226",
   "metadata": {},
   "outputs": [
    {
     "name": "stdout",
     "output_type": "stream",
     "text": [
      "5개 테스트셋 정확도 :  [0.71875    0.6875     0.8125     0.58064516 0.80645161]\n",
      "정확도 평균 :  0.7211693548387096\n"
     ]
    }
   ],
   "source": [
    "#랜덤 없는 교차 검증(cross_val_score)\n",
    "\n",
    "from sklearn.model_selection import cross_val_score\n",
    "scores = cross_val_score(model,X_train,y_train,cv=5)\n",
    "\n",
    "print(\"5개 테스트셋 정확도 : \", scores)\n",
    "print(\"정확도 평균 : \",scores.mean())"
   ]
  },
  {
   "cell_type": "code",
   "execution_count": 12,
   "id": "b8d19be5",
   "metadata": {},
   "outputs": [
    {
     "name": "stdout",
     "output_type": "stream",
     "text": [
      "5개 폴드의 정확도 :  [0.71875    0.6875     0.8125     0.58064516 0.80645161]\n"
     ]
    }
   ],
   "source": [
    "#랜덤있는 교차 검증(K-fold)\n",
    "#cross_val은 데이터셋의 순서가 있는 그대로 나뉘기 때문에 순서에 편향이 있으면 문제가됨\n",
    "#따라서 무작위로 섞는 방법을 이용\n",
    "\n",
    "from sklearn.model_selection import KFold\n",
    "kfold = KFold(n_splits=5, shuffle = True, random_state = 42)\n",
    "score = cross_val_score(model,X_train,y_train,cv = kfold)\n",
    "\n",
    "print(\"5개 폴드의 정확도 : \", scores)"
   ]
  },
  {
   "cell_type": "code",
   "execution_count": 14,
   "id": "e2a69d76",
   "metadata": {},
   "outputs": [
    {
     "name": "stdout",
     "output_type": "stream",
     "text": [
      "교차검증 정확도 : [0.71875    0.6875     0.8125     0.58064516 0.80645161]\n"
     ]
    }
   ],
   "source": [
    "#임의분할 교차검증\n",
    "#전체 데이터중 일부는 훈련/테스트데이터 어디에서도 선택되지 않을 수 있음\n",
    "\n",
    "from sklearn.model_selection import ShuffleSplit\n",
    "shuffle_split = ShuffleSplit(test_size = 0.5,train_size = 0.5, random_state = 42)\n",
    "score=cross_val_score(model,X_train,y_train,cv=shuffle_split)\n",
    "print(\"교차검증 정확도 :\",scores)"
   ]
  },
  {
   "cell_type": "code",
   "execution_count": 15,
   "id": "9dd9970e",
   "metadata": {},
   "outputs": [],
   "source": [
    "#train/test/valid\n",
    "\n",
    "from sklearn.model_selection import train_test_split\n",
    "X_train_val,x_test,y_train_val,y_test = train_test_split(X,y,random_state=1)\n",
    "\n",
    "#X_train_val을 다시 train과 valid로 분할\n",
    "X_train,X_valid,y_train,y_valid = train_test_split(X_train_val,y_train_val,random_state = 2)"
   ]
  },
  {
   "cell_type": "code",
   "execution_count": 16,
   "id": "c674d6cc",
   "metadata": {},
   "outputs": [
    {
     "name": "stdout",
     "output_type": "stream",
     "text": [
      "교차검증 정확도:  [0.58333333 0.66666667 0.70833333 0.65217391 0.65217391]\n",
      "정확도 평균 :  0.652536231884058\n"
     ]
    }
   ],
   "source": [
    "#모델 훈련\n",
    "\n",
    "model.fit(X_train,y_train)\n",
    "scores = cross_val_score(model, X_train,y_train,cv=5)\n",
    "\n",
    "print(\"교차검증 정확도: \",scores)\n",
    "print(\"정확도 평균 : \",scores.mean())"
   ]
  },
  {
   "cell_type": "code",
   "execution_count": 17,
   "id": "27390a39",
   "metadata": {},
   "outputs": [
    {
     "data": {
      "text/plain": [
       "0.65"
      ]
     },
     "execution_count": 17,
     "metadata": {},
     "output_type": "execute_result"
    }
   ],
   "source": [
    "model.score(X_valid,y_valid)"
   ]
  },
  {
   "cell_type": "code",
   "execution_count": 18,
   "id": "d7da9697",
   "metadata": {},
   "outputs": [
    {
     "data": {
      "text/plain": [
       "0.6792452830188679"
      ]
     },
     "execution_count": 18,
     "metadata": {},
     "output_type": "execute_result"
    }
   ],
   "source": [
    "model.score(X_test,y_test)"
   ]
  },
  {
   "cell_type": "code",
   "execution_count": null,
   "id": "1e948905",
   "metadata": {},
   "outputs": [],
   "source": []
  }
 ],
 "metadata": {
  "kernelspec": {
   "display_name": "Python 3",
   "language": "python",
   "name": "python3"
  },
  "language_info": {
   "codemirror_mode": {
    "name": "ipython",
    "version": 3
   },
   "file_extension": ".py",
   "mimetype": "text/x-python",
   "name": "python",
   "nbconvert_exporter": "python",
   "pygments_lexer": "ipython3",
   "version": "3.8.8"
  }
 },
 "nbformat": 4,
 "nbformat_minor": 5
}
