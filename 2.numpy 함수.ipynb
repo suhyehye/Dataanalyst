{
 "cells": [
  {
   "cell_type": "code",
   "execution_count": 3,
   "id": "9859a938",
   "metadata": {},
   "outputs": [],
   "source": [
    "import numpy as np"
   ]
  },
  {
   "cell_type": "code",
   "execution_count": 4,
   "id": "7c98bdeb",
   "metadata": {},
   "outputs": [
    {
     "name": "stdout",
     "output_type": "stream",
     "text": [
      "[1 2 3 4]\n"
     ]
    }
   ],
   "source": [
    "v1 = np.array([1,2,3,4])\n",
    "print(v1)"
   ]
  },
  {
   "cell_type": "code",
   "execution_count": 7,
   "id": "9a38de2f",
   "metadata": {},
   "outputs": [
    {
     "name": "stdout",
     "output_type": "stream",
     "text": [
      "[0 1 2 3 4]\n",
      "[1 3 5 7 9]\n",
      "[3.5 5.5 7.5 9.5]\n",
      "[ 1  9 25 49 81]\n",
      "[  1  27 125 343 729]\n"
     ]
    }
   ],
   "source": [
    "#연속되거나 일정한 규칙을 가진 숫자\n",
    "#0부터 4까지 생성됨\n",
    "v1 = np.arange(5)\n",
    "print(v1)\n",
    "\n",
    "#연속되거나 일정한 규칙을 가진 숫자, 데이터 형태 지정\n",
    "v2 = np.arange(1,10,2, dtype=int)\n",
    "v3 = np.arange(3.5,10.5,2,dtype = float)\n",
    "print(v2)\n",
    "print(v3)\n",
    "\n",
    "#제곱값 생성\n",
    "v4 = np.arange(1,10,2)**2\n",
    "print(v4)\n",
    "\n",
    "#세제곱값 생성\n",
    "v5 = np.arange(1,10,2)**3\n",
    "print(v5)"
   ]
  },
  {
   "cell_type": "code",
   "execution_count": 8,
   "id": "62329a25",
   "metadata": {},
   "outputs": [
    {
     "name": "stdout",
     "output_type": "stream",
     "text": [
      "[ 0  1  2  3  4  5  6  7  8  9 10 11]\n",
      "[[ 0  1  2  3  4  5]\n",
      " [ 6  7  8  9 10 11]]\n",
      "[[ 0  2  4  6  8 10]\n",
      " [ 1  3  5  7  9 11]]\n"
     ]
    }
   ],
   "source": [
    "#행렬 만들기\n",
    "v1 = np.arange(12)\n",
    "print(v1)\n",
    "v2 = v1.reshape(2,6)\n",
    "print(v2)\n",
    "v3=v1.reshape(2,6,order=\"F\")\n",
    "print(v3)\n",
    "\n",
    "#order = T는 가로부터 할당, F는 세로부터 할당"
   ]
  },
  {
   "cell_type": "code",
   "execution_count": 9,
   "id": "99f0c425",
   "metadata": {},
   "outputs": [
    {
     "name": "stdout",
     "output_type": "stream",
     "text": [
      "[[2 4]\n",
      " [6 8]]\n",
      "[[0 0]\n",
      " [0 0]]\n",
      "[[ 1  4]\n",
      " [ 9 16]]\n",
      "[[ 7 10]\n",
      " [15 22]]\n"
     ]
    }
   ],
   "source": [
    "#행렬계산\n",
    "v1 = np.arange(1,5).reshape(2,2)\n",
    "print(np.add(v1,v1)) #덧셈\n",
    "print(np.subtract(v1,v1)) #뺼셈\n",
    "print(np.multiply(v1,v1)) #곱셈\n",
    "print(np.dot(v1,v1)) #행렬연산"
   ]
  },
  {
   "cell_type": "code",
   "execution_count": 10,
   "id": "d041defb",
   "metadata": {},
   "outputs": [
    {
     "name": "stdout",
     "output_type": "stream",
     "text": [
      "[ 0  1  2  3  4  5  6  7  8  9 10 11]\n",
      "[[[ 0  6]\n",
      "  [ 2  8]\n",
      "  [ 4 10]]\n",
      "\n",
      " [[ 1  7]\n",
      "  [ 3  9]\n",
      "  [ 5 11]]]\n"
     ]
    }
   ],
   "source": [
    "#다차원 행렬 만들기\n",
    "v1 = np.arange(12)\n",
    "print(v1)\n",
    "v2 = v1.reshape(2,3,2,order='F')\n",
    "print(v2)"
   ]
  },
  {
   "cell_type": "code",
   "execution_count": 11,
   "id": "48eb0faf",
   "metadata": {},
   "outputs": [
    {
     "name": "stdout",
     "output_type": "stream",
     "text": [
      "[3.5 5.5 7.5 9.5]\n",
      "[[1 2]\n",
      " [3 4]]\n",
      "9.5\n",
      "1\n",
      "float64\n",
      "int32\n"
     ]
    }
   ],
   "source": [
    "#다차원 배열에서 요소의 최대값 최소값 반환\n",
    "v3 = np.arange(3.5,10.5,2,dtype=float)\n",
    "print(v3)\n",
    "v4 = np.arange(1,5).reshape(2,2)\n",
    "print(v4)\n",
    "print(np.amax(v3))\n",
    "print(np.amin(v4))\n",
    "print(v3.dtype)\n",
    "print(v4.dtype)"
   ]
  },
  {
   "cell_type": "code",
   "execution_count": null,
   "id": "738b398c",
   "metadata": {},
   "outputs": [],
   "source": []
  }
 ],
 "metadata": {
  "kernelspec": {
   "display_name": "Python 3",
   "language": "python",
   "name": "python3"
  },
  "language_info": {
   "codemirror_mode": {
    "name": "ipython",
    "version": 3
   },
   "file_extension": ".py",
   "mimetype": "text/x-python",
   "name": "python",
   "nbconvert_exporter": "python",
   "pygments_lexer": "ipython3",
   "version": "3.8.8"
  }
 },
 "nbformat": 4,
 "nbformat_minor": 5
}
